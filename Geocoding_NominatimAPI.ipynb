{
  "cells": [
    {
      "cell_type": "code",
      "source": [
        "from google.colab import drive\n",
        "drive.mount('/content/drive')"
      ],
      "metadata": {
        "id": "Dshl93ZGIAC4"
      },
      "execution_count": null,
      "outputs": []
    },
    {
      "cell_type": "code",
      "execution_count": null,
      "metadata": {
        "id": "lZTky5oWH66a"
      },
      "outputs": [],
      "source": [
        "import time\n",
        "import requests\n",
        "import pandas as pd\n",
        "import urllib.parse\n",
        "from nltk.tokenize import word_tokenize"
      ]
    },
    {
      "cell_type": "code",
      "source": [
        "for i in range(1, 18):\n",
        "  file_path = '/content/drive/MyDrive/lok_sabha_data/NER_stats/LS' + str(i) + '_NER_Stats.csv'\n",
        "  try:\n",
        "    df =  pd.read_csv(file_path, lineterminator='\\n', usecols = [\"entity_text\",\t\"entity_type\",\t\"instances\"])\n",
        "    fdf = df[df[\"entity_type\"] == \"GPE\"]\n",
        "    statfilepath = '/content/drive/MyDrive/lok_sabha_data/Location_data/ner_stats_' + str(i) + '_loaction_data.csv'\n",
        "    fdf.to_csv(statfilepath, columns = [\"entity_text\", \"instances\"], index = False)\n",
        "    print(\"File done:\", str(i))\n",
        "  except FileNotFoundError as e:\n",
        "    continue"
      ],
      "metadata": {
        "id": "vuFx1yCIIZsB"
      },
      "execution_count": null,
      "outputs": []
    },
    {
      "cell_type": "code",
      "source": [
        "locations = list()\n",
        "frequencies = list()\n",
        "nouns = pd.read_csv(\"/content/drive/MyDrive/lok_sabha_data/NER_stats/LS16_Noun_Stats.csv\")\n",
        "pnouns = pd.read_csv(\"/content/drive/MyDrive/lok_sabha_data/NER_stats/LS16_PropN.csv\")\n",
        "ner_loc = pd.read_csv(\"/content/drive/MyDrive/lok_sabha_data/Location_data/ner_stats_16_loaction_data.csv\")\n",
        "\n",
        "locations += list(nouns[\"word\"]) + list(pnouns[\"word\"]) + list(ner_loc[\"entity_text\"])\n",
        "frequencies += list(nouns[\"instances\"]) + list(pnouns[\"instances\"]) + list(ner_loc[\"instances\"])\n",
        "\n",
        "location_df = pd.DataFrame(list(zip(locations, frequencies)), columns =['locations', 'frequencies'])"
      ],
      "metadata": {
        "id": "agjcyozFVm3D"
      },
      "execution_count": null,
      "outputs": []
    },
    {
      "cell_type": "code",
      "source": [
        "print(locations[:100])"
      ],
      "metadata": {
        "id": "z0UoAYtCYjQZ"
      },
      "execution_count": null,
      "outputs": []
    },
    {
      "cell_type": "code",
      "source": [
        "location_df.head()"
      ],
      "metadata": {
        "id": "Ndnq94a7ZUuo"
      },
      "execution_count": null,
      "outputs": []
    },
    {
      "cell_type": "code",
      "execution_count": null,
      "metadata": {
        "id": "_H7NPQHPH66h"
      },
      "outputs": [],
      "source": [
        "\n",
        "coordinates = list()\n",
        "frequencies = dict()\n",
        "notFound = list()\n",
        "\n",
        "start_time = time.time()\n",
        "\n",
        "for index,loc in enumerate(location_df['location'].values):\n",
        "        time.sleep(1.2)\n",
        "        url = 'https://nominatim.openstreetmap.org/search/' + urllib.parse.quote(loc) +'?format=json'\n",
        "        retry_time = 0.8\n",
        "        response = None\n",
        "        while not response:\n",
        "            try:\n",
        "                response = requests.get(url).json()\n",
        "                if response:\n",
        "                        print(index, \"found\")\n",
        "                        coordinates.append([response[0]['display_name'], response[0]['lat'], response[0]['lon']])\n",
        "                        \n",
        "                        if response[0]['display_name'] in frequencies.keys():\n",
        "                                frequencies[response[0]['display_name']] += location_df.iloc[index]['frequency']\n",
        "                        else:\n",
        "                                frequencies[response[0]['display_name']] = location_df.iloc[index]['frequency']\n",
        "                else:\n",
        "                        notFound.append(index)\n",
        "                        print(index, \"not found\")\n",
        "                print(f\"Total : {index+1-len(notFound)}/{index+1}\")\n",
        "                break\n",
        "            except:\n",
        "                time.sleep(retry_time)\n",
        "                print(\"retrying\")\n",
        "        \n",
        "        print(\"Time elapsed :\", time.time()-start_time)\n",
        "        print(\"\\n----------------------------------\\n\")"
      ]
    },
    {
      "cell_type": "code",
      "execution_count": null,
      "metadata": {
        "id": "G2vzvo9mH66j"
      },
      "outputs": [],
      "source": [
        "len(frequencies)"
      ]
    },
    {
      "cell_type": "code",
      "execution_count": null,
      "metadata": {
        "id": "OcAdFlOtH66j"
      },
      "outputs": [],
      "source": [
        "locations"
      ]
    },
    {
      "cell_type": "code",
      "execution_count": null,
      "metadata": {
        "id": "sJ9FId2tH66k"
      },
      "outputs": [],
      "source": [
        "frequencies"
      ]
    },
    {
      "cell_type": "code",
      "execution_count": null,
      "metadata": {
        "id": "EpVL7UesH66k"
      },
      "outputs": [],
      "source": [
        "plot_data = pd.DataFrame(coordinates, columns=['Location', 'Latitude', 'Longitude'])\n",
        "plot_data.to_csv('locations\\LS16_plot_data.csv')"
      ]
    },
    {
      "cell_type": "code",
      "execution_count": null,
      "metadata": {
        "id": "hwY1pI-gH66l"
      },
      "outputs": [],
      "source": [
        "plot_data = pd.read_csv(f'locations\\LS16_plot_data.csv')\n",
        "print(len(plot_data))\n",
        "plot_data.head(20)"
      ]
    },
    {
      "cell_type": "code",
      "execution_count": null,
      "metadata": {
        "id": "dHvqH6SpH66m"
      },
      "outputs": [],
      "source": [
        "plot_data.drop_duplicates(subset=['Location'], inplace=True, ignore_index=True)"
      ]
    },
    {
      "cell_type": "code",
      "execution_count": null,
      "metadata": {
        "id": "WgbZrc_IH66m"
      },
      "outputs": [],
      "source": [
        "len(plot_data)"
      ]
    },
    {
      "cell_type": "code",
      "execution_count": null,
      "metadata": {
        "id": "DIQF-F_EH66n"
      },
      "outputs": [],
      "source": [
        "plot_data.drop(columns=['Unnamed: 0'], inplace=True)"
      ]
    },
    {
      "cell_type": "code",
      "execution_count": null,
      "metadata": {
        "id": "lHVHyS_SH66o"
      },
      "outputs": [],
      "source": [
        "plot_data"
      ]
    },
    {
      "cell_type": "code",
      "execution_count": null,
      "metadata": {
        "id": "QYlqHXhzH66o"
      },
      "outputs": [],
      "source": [
        "plot_data.to_csv('locations\\LS16_plot_data.csv')"
      ]
    },
    {
      "cell_type": "code",
      "execution_count": null,
      "metadata": {
        "id": "4iSITECRH66o"
      },
      "outputs": [],
      "source": [
        "plot_data = pd.read_csv(f'locations\\LS16_plot_data.csv')\n",
        "print(len(plot_data))\n",
        "plot_data.head(20)"
      ]
    },
    {
      "cell_type": "code",
      "execution_count": null,
      "metadata": {
        "id": "9otANCbOH66p"
      },
      "outputs": [],
      "source": [
        "plot_data.drop(columns=['Unnamed: 0'], inplace=True)"
      ]
    },
    {
      "cell_type": "code",
      "execution_count": null,
      "metadata": {
        "id": "1XmHSQmjH66p"
      },
      "outputs": [],
      "source": [
        "freqs = list()\n",
        "\n",
        "for loc in plot_data['Location'].values:\n",
        "    freqs.append(frequencies[loc])"
      ]
    },
    {
      "cell_type": "code",
      "execution_count": null,
      "metadata": {
        "id": "tIMaAIi4H66q"
      },
      "outputs": [],
      "source": [
        "print(len(freqs))\n",
        "freqs"
      ]
    },
    {
      "cell_type": "code",
      "execution_count": null,
      "metadata": {
        "id": "l8jzp9E-H66q"
      },
      "outputs": [],
      "source": [
        "plot_data.insert(3, \"Frequency\", freqs, True)"
      ]
    },
    {
      "cell_type": "code",
      "execution_count": null,
      "metadata": {
        "id": "ZTWfpO01H66q"
      },
      "outputs": [],
      "source": [
        "plot_data"
      ]
    },
    {
      "cell_type": "code",
      "execution_count": null,
      "metadata": {
        "id": "7LY2cGRZH66r"
      },
      "outputs": [],
      "source": [
        "plot_data.to_csv('locations\\LS16_plot_data.csv')"
      ]
    },
    {
      "cell_type": "code",
      "execution_count": null,
      "metadata": {
        "id": "ZUEpwKwVH66r"
      },
      "outputs": [],
      "source": [
        "notFound"
      ]
    },
    {
      "cell_type": "code",
      "execution_count": null,
      "metadata": {
        "id": "cVE-CulzH66s"
      },
      "outputs": [],
      "source": [
        "not_found_locations = list()\n",
        "\n",
        "for index in notFound:\n",
        "    not_found_locations.append(locations.iloc[index]['location'])"
      ]
    },
    {
      "cell_type": "code",
      "execution_count": null,
      "metadata": {
        "id": "3UKluw7LH66t"
      },
      "outputs": [],
      "source": [
        "not_found_locations"
      ]
    },
    {
      "cell_type": "code",
      "execution_count": null,
      "metadata": {
        "id": "8B32xv5_H66t"
      },
      "outputs": [],
      "source": [
        "not_found = pd.DataFrame()\n",
        "not_found.insert(0, \"index\", notFound, True)\n",
        "not_found.insert(1, \"location\", not_found_locations, True)"
      ]
    },
    {
      "cell_type": "code",
      "execution_count": null,
      "metadata": {
        "id": "qD6cqfxdH66u"
      },
      "outputs": [],
      "source": [
        "not_found"
      ]
    },
    {
      "cell_type": "code",
      "execution_count": null,
      "metadata": {
        "id": "cOnhhPVcH66u"
      },
      "outputs": [],
      "source": [
        "not_found.to_csv('locations\\LS16_not_found.csv')"
      ]
    },
    {
      "cell_type": "markdown",
      "metadata": {
        "id": "TuhhPYhRH66u"
      },
      "source": [
        "## **Trying to make the location data proper**"
      ]
    },
    {
      "cell_type": "code",
      "execution_count": null,
      "metadata": {
        "id": "PCRl4rvKH66w"
      },
      "outputs": [],
      "source": [
        "plotData = pd.read_csv('locations\\LS16_plot_data.csv')"
      ]
    },
    {
      "cell_type": "code",
      "execution_count": null,
      "metadata": {
        "id": "K9fSLJLTH66w"
      },
      "outputs": [],
      "source": [
        "plotData"
      ]
    },
    {
      "cell_type": "code",
      "execution_count": null,
      "metadata": {
        "id": "ZrVs6gCxH66w"
      },
      "outputs": [],
      "source": [
        "indexes = list()\n",
        "\n",
        "for index in range(0, len(plotData)):\n",
        "    actual = word_tokenize(plotData.iloc[index]['actual_address'].lower())\n",
        "    formatted = word_tokenize(plotData.iloc[index]['formatted_address'].lower())\n",
        "    flag = True\n",
        "\n",
        "    for token in actual:\n",
        "        if token in formatted:\n",
        "            flag = False\n",
        "            break\n",
        "    \n",
        "    if flag:\n",
        "        indexes.append(index)"
      ]
    },
    {
      "cell_type": "code",
      "execution_count": null,
      "metadata": {
        "id": "g8bnTCCpH66x"
      },
      "outputs": [],
      "source": [
        "print(len(indexes))"
      ]
    },
    {
      "cell_type": "code",
      "execution_count": null,
      "metadata": {
        "id": "o3FJNVIWH66x"
      },
      "outputs": [],
      "source": [
        "for index in indexes:\n",
        "    print(list(plotData.iloc[index]))"
      ]
    },
    {
      "cell_type": "code",
      "execution_count": null,
      "metadata": {
        "id": "2BRQrz0vH66x"
      },
      "outputs": [],
      "source": [
        "import pandas as pd\n",
        "plot_data = pd.read_csv(f'locations\\LS16_plot_data.csv')"
      ]
    },
    {
      "cell_type": "code",
      "execution_count": null,
      "metadata": {
        "id": "VPMe8fV4H66x"
      },
      "outputs": [],
      "source": [
        "plot_data"
      ]
    },
    {
      "cell_type": "code",
      "execution_count": null,
      "metadata": {
        "id": "JXvs9WVNH66y"
      },
      "outputs": [],
      "source": [
        "plot_data[4790:4800]"
      ]
    },
    {
      "cell_type": "code",
      "execution_count": null,
      "metadata": {
        "id": "LsH1DcogH66y"
      },
      "outputs": [],
      "source": [
        "plot_data.drop(4794)[4790:4800]"
      ]
    },
    {
      "cell_type": "code",
      "execution_count": null,
      "metadata": {
        "id": "xYH0cflUH66y"
      },
      "outputs": [],
      "source": [
        "plot_data"
      ]
    },
    {
      "cell_type": "markdown",
      "metadata": {
        "id": "9r4Msdy_H66z"
      },
      "source": [
        "## **Hindi Locations**"
      ]
    },
    {
      "cell_type": "code",
      "execution_count": null,
      "metadata": {
        "id": "iFIpQ2ouH66z"
      },
      "outputs": [],
      "source": [
        "import json\n",
        "import time\n",
        "import pandas as pd\n",
        "from geosky import geo_plug\n",
        "from googletrans import Translator"
      ]
    },
    {
      "cell_type": "code",
      "execution_count": null,
      "metadata": {
        "id": "7Loh5aoSH66z"
      },
      "outputs": [],
      "source": [
        "locations_in_english = list()"
      ]
    },
    {
      "cell_type": "code",
      "execution_count": null,
      "metadata": {
        "id": "_vuvbs76H66z"
      },
      "outputs": [],
      "source": [
        "countries = geo_plug.all_CountryNames()\n",
        "states = json.loads(geo_plug.all_Country_StateNames())\n",
        "cities = json.loads(geo_plug.all_State_CityNames())"
      ]
    },
    {
      "cell_type": "code",
      "execution_count": null,
      "metadata": {
        "id": "zRD92J7BH66z"
      },
      "outputs": [],
      "source": [
        "locations_in_english += countries"
      ]
    },
    {
      "cell_type": "code",
      "execution_count": null,
      "metadata": {
        "id": "ZUjnb8_pH660"
      },
      "outputs": [],
      "source": [
        "for index in range(0, len(states)):\n",
        "  locations_in_english += (list(states[index].values())[0])"
      ]
    },
    {
      "cell_type": "code",
      "execution_count": null,
      "metadata": {
        "id": "zgb-IqFdH661"
      },
      "outputs": [],
      "source": [
        "for index in range(0, len(cities)):\n",
        "  locations_in_english += (list(cities[index].values())[0])"
      ]
    },
    {
      "cell_type": "code",
      "execution_count": null,
      "metadata": {
        "id": "pvMB6RIBH661"
      },
      "outputs": [],
      "source": [
        "locations_in_english[:20]"
      ]
    },
    {
      "cell_type": "code",
      "execution_count": null,
      "metadata": {
        "id": "8ZuUi8wxH661"
      },
      "outputs": [],
      "source": [
        "locations_in_hindi = list()"
      ]
    },
    {
      "cell_type": "code",
      "execution_count": null,
      "metadata": {
        "id": "FK_yHoN3H662"
      },
      "outputs": [],
      "source": [
        "locations_in_hindi"
      ]
    },
    {
      "cell_type": "code",
      "execution_count": null,
      "metadata": {
        "id": "6y5NIdQ-H662"
      },
      "outputs": [],
      "source": [
        "translator = Translator()\n",
        "start_time = time.time()\n",
        "from_lang = 'en'\n",
        "to_lang = 'hi'\n",
        "\n",
        "data = pd.DataFrame(columns=['English', 'Hindi'])\n",
        "\n",
        "for index,loc in enumerate(locations_in_english):\n",
        "    tries = 0\n",
        "    while(tries<7):\n",
        "      try:\n",
        "        result = translator.translate(loc, src=from_lang, dest=to_lang).text\n",
        "\n",
        "        if result:\n",
        "          locations_in_hindi.append(result)\n",
        "          data.loc[len(data)] = [loc, locations_in_hindi[-1]]\n",
        "          print(f'{index} Done!')\n",
        "        else:\n",
        "          print(f'Error in {index}')\n",
        "\n",
        "        if index%1000==0:\n",
        "          data.to_csv('translatedLocations.csv')\n",
        "        \n",
        "        tries=100\n",
        "      \n",
        "      except:\n",
        "        tries += 1\n",
        "        time.sleep(15)\n",
        "        print(\"Retrying\")\n",
        "\n",
        "print(time.time()-start_time)"
      ]
    },
    {
      "cell_type": "code",
      "execution_count": null,
      "metadata": {
        "id": "VBo9czXtH662"
      },
      "outputs": [],
      "source": [
        "len(data)"
      ]
    },
    {
      "cell_type": "code",
      "execution_count": null,
      "metadata": {
        "id": "g5b33df-H663"
      },
      "outputs": [],
      "source": [
        "data.to_csv('translatedLocations.csv')"
      ]
    },
    {
      "cell_type": "code",
      "execution_count": null,
      "metadata": {
        "id": "vmP71wVbH663"
      },
      "outputs": [],
      "source": [
        "my_file = open(\"hindiLocations.txt\", \"r\", encoding=\"utf8\")\n",
        "content = my_file.read()\n",
        "my_file.close()"
      ]
    },
    {
      "cell_type": "code",
      "execution_count": null,
      "metadata": {
        "id": "JNEuoDZvH663"
      },
      "outputs": [],
      "source": [
        "locations_in_hindi = content.split('\\n')"
      ]
    },
    {
      "cell_type": "code",
      "execution_count": null,
      "metadata": {
        "id": "UQLf0RxHH663"
      },
      "outputs": [],
      "source": [
        "locations_in_hindi = locations_in_hindi[:-1]"
      ]
    },
    {
      "cell_type": "code",
      "execution_count": null,
      "metadata": {
        "id": "HrQ0xy87H663"
      },
      "outputs": [],
      "source": [
        "len(locations_in_hindi)"
      ]
    }
  ],
  "metadata": {
    "interpreter": {
      "hash": "5892728a6c5619df7b0b9bfd16fe3b5feab0f588b8fee353f49ccbb35f4c27e3"
    },
    "kernelspec": {
      "display_name": "Python 3.9.6 64-bit",
      "language": "python",
      "name": "python3"
    },
    "language_info": {
      "codemirror_mode": {
        "name": "ipython",
        "version": 3
      },
      "file_extension": ".py",
      "mimetype": "text/x-python",
      "name": "python",
      "nbconvert_exporter": "python",
      "pygments_lexer": "ipython3",
      "version": "3.9.6"
    },
    "orig_nbformat": 4,
    "colab": {
      "name": "Geocoding_NominatimAPI.ipynb",
      "provenance": [],
      "collapsed_sections": [
        "TuhhPYhRH66u",
        "9r4Msdy_H66z"
      ]
    }
  },
  "nbformat": 4,
  "nbformat_minor": 0
}